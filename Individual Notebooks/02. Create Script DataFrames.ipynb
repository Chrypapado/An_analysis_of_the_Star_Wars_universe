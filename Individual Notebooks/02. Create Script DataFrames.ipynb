{
 "cells": [
  {
   "cell_type": "markdown",
   "metadata": {},
   "source": [
    "### Libraries"
   ]
  },
  {
   "cell_type": "code",
   "execution_count": 1,
   "metadata": {},
   "outputs": [],
   "source": [
    "import re\n",
    "import httplib2\n",
    "import pandas as pd\n",
    "from pathlib import Path\n",
    "from bs4 import BeautifulSoup, SoupStrainer"
   ]
  },
  {
   "cell_type": "markdown",
   "metadata": {},
   "source": [
    "#### Create the directories"
   ]
  },
  {
   "cell_type": "code",
   "execution_count": 2,
   "metadata": {},
   "outputs": [],
   "source": [
    "Path(\"Data\").mkdir(parents=True, exist_ok=True)\n",
    "Path(\"Data/Scripts\").mkdir(parents=True, exist_ok=True)"
   ]
  },
  {
   "cell_type": "markdown",
   "metadata": {},
   "source": [
    "#### Download the scripts of the six episodes"
   ]
  },
  {
   "cell_type": "code",
   "execution_count": 3,
   "metadata": {},
   "outputs": [],
   "source": [
    "http = httplib2.Http()\n",
    "\n",
    "scripts = []\n",
    "films = ['https://imsdb.com/scripts/Star-Wars-The-Phantom-Menace.html',\n",
    "         'https://imsdb.com/scripts/Star-Wars-Attack-of-the-Clones.html',\n",
    "         'https://imsdb.com/scripts/Star-Wars-A-New-Hope.html',\n",
    "         'https://imsdb.com/scripts/Star-Wars-The-Empire-Strikes-Back.html',\n",
    "         'https://imsdb.com/scripts/Star-Wars-Return-of-the-Jedi.html']\n",
    "\n",
    "for film in films:\n",
    "    film_name = film.strip('http://www.imsdb.com/scripts/')\n",
    "    film_name = film_name.replace('.html','')\n",
    "    film_name = film_name.replace(':', '')\n",
    "    status, response = http.request(film)\n",
    "    filename ='./Data/Scripts/' + film_name + '.txt'\n",
    "    for link in BeautifulSoup(response, parse_only = SoupStrainer('pre')):\n",
    "        scripts = link.text\n",
    "        with open(filename, \"w\", encoding='utf-8', errors='ignore') as f:\n",
    "            for script in scripts:\n",
    "                f.write(script)\n",
    "\n",
    "scripts = []                \n",
    "film = 'https://imsdb.com/scripts/Star-Wars-Revenge-of-the-Sith.html'\n",
    "film_name = film.strip('http://www.imsdb.com/scripts/')\n",
    "film_name = film_name.replace('.html','')\n",
    "film_name = film_name.replace(':', '')\n",
    "status, response = http.request(film)\n",
    "filename ='./Data/Scripts/' + film_name + '.txt'\n",
    "for link in BeautifulSoup(response, parse_only = SoupStrainer('body')):\n",
    "    scripts = link.text\n",
    "    scripts = scripts[scripts.find('STAR WARS'):]\n",
    "    with open(filename, \"w\", encoding='utf-8', errors='ignore') as f:\n",
    "        for script in scripts:\n",
    "            f.write(script)"
   ]
  },
  {
   "cell_type": "markdown",
   "metadata": {},
   "source": [
    "#### Create the dataframes"
   ]
  },
  {
   "cell_type": "code",
   "execution_count": 4,
   "metadata": {},
   "outputs": [],
   "source": [
    "data_movie = pd.DataFrame(columns=['Scene_Title','Scene_Description', 'Scene_Characters', 'Scene_Dialogue', 'Movie'])\n",
    "data_lines = pd.DataFrame(columns=['Character', 'Line', 'Movie'])"
   ]
  },
  {
   "cell_type": "markdown",
   "metadata": {},
   "source": [
    "### Functions to help us with the script"
   ]
  },
  {
   "cell_type": "markdown",
   "metadata": {},
   "source": [
    "#### Split the script into rows"
   ]
  },
  {
   "cell_type": "code",
   "execution_count": 5,
   "metadata": {},
   "outputs": [],
   "source": [
    "def split_script_to_rows(script):\n",
    "    temp_script = []\n",
    "    for row in script:\n",
    "        row = re.sub(r'\\(.*\\)', '', row)\n",
    "        row = re.sub(r'\\-|\\#\\d+', '', row)\n",
    "        temp_script.append(row.replace('\\t', ' ').lstrip(\" \"))\n",
    "    return temp_script"
   ]
  },
  {
   "cell_type": "markdown",
   "metadata": {},
   "source": [
    "#### Find the name of every scene"
   ]
  },
  {
   "cell_type": "code",
   "execution_count": 6,
   "metadata": {},
   "outputs": [],
   "source": [
    "def find_scenes(temp_script):\n",
    "    scenes = []\n",
    "    for row in temp_script:\n",
    "        scene = re.search(r'(((INT\\.|EXT\\.)\\s[A-Z]+)|((INT\\.|EXT\\.)\\s+[A-Z]+\\W+.+))', row)\n",
    "        if scene:\n",
    "            scenes.append(row[:-1])\n",
    "    return scenes"
   ]
  },
  {
   "cell_type": "code",
   "execution_count": 7,
   "metadata": {},
   "outputs": [],
   "source": [
    "def find_scenes_EP_VI(temp_script):\n",
    "    scenes = []\n",
    "    for row in temp_script:\n",
    "        scene = re.search(r'(INT|EXT)', row)\n",
    "        if scene:\n",
    "            scenes.append(row[:-1])\n",
    "    return scenes"
   ]
  },
  {
   "cell_type": "markdown",
   "metadata": {},
   "source": [
    "#### Find the character from every line"
   ]
  },
  {
   "cell_type": "code",
   "execution_count": 8,
   "metadata": {},
   "outputs": [],
   "source": [
    "def find_lines_character(temp_script):\n",
    "    characters = []\n",
    "    for row in temp_script:\n",
    "        char = re.findall(r'(^[A-Z]+[A-Z]+\\n)|(^[A-Z]+[A-Z]+\\s+[A-Z]+[A-Z]+\\n)', row)\n",
    "        if char:\n",
    "            untupled_char = [tuple(filter(None, i)) for i in char]\n",
    "            characters.append(untupled_char)\n",
    "    characters = [x[0][0][:-1] for x in characters]\n",
    "    return characters"
   ]
  },
  {
   "cell_type": "code",
   "execution_count": 9,
   "metadata": {},
   "outputs": [],
   "source": [
    "def find_lines_character_EP_I(temp_script):\n",
    "    characters = []\n",
    "    for row in temp_script:\n",
    "        char = re.findall(r'(^[A-Z]+[A-Z]+ :)|(^[A-Z]+[A-Z]+\\s+[A-Z]+[A-Z]+ :)|(^[A-Za-z0-9_-]+ :)', row)\n",
    "        if char:\n",
    "            untupled_char = [tuple(filter(None, i)) for i in char]\n",
    "            characters.append(untupled_char)\n",
    "    characters = [x[0][0][:-1] for x in characters]\n",
    "    return characters"
   ]
  },
  {
   "cell_type": "code",
   "execution_count": 10,
   "metadata": {},
   "outputs": [],
   "source": [
    "def find_lines_character_EP_III(temp_script):\n",
    "    characters = []\n",
    "    for row in temp_script:\n",
    "        char = re.findall(r'(^[A-Z]+[A-Z]+:)|(^[A-Z]+[A-Z]+\\s+[A-Z]+[A-Z]+:)', row)\n",
    "        if char:\n",
    "            untupled_char = [tuple(filter(None, i)) for i in char]\n",
    "            characters.append(untupled_char)\n",
    "    characters = [x[0][0][:-1] for x in characters]\n",
    "    return characters"
   ]
  },
  {
   "cell_type": "markdown",
   "metadata": {},
   "source": [
    "#### All the script by adding a keyword to every change of scene"
   ]
  },
  {
   "cell_type": "code",
   "execution_count": 11,
   "metadata": {},
   "outputs": [],
   "source": [
    "def change_scene(script):\n",
    "    text = []\n",
    "    for row in script:\n",
    "        row = row.replace('\\t', ' ').lstrip(\" \")\n",
    "        row = re.sub(r'(((INT\\.|EXT\\.)\\s[A-Z]+)|((INT\\.|EXT\\.)\\s+[A-Z]+\\W+.+))', 'SPLIT', row)\n",
    "        row = re.sub(r'^\\W+', r'', row)\n",
    "        row = re.sub(r\"[^a-zA-Z0-9.,?'&\\n ]+\", '', row)\n",
    "        text.append(row)\n",
    "\n",
    "    text = \"\".join([s for s in text if s.strip()])\n",
    "    text = re.sub(r'\\nTHE END\\n(.|\\n)*', '', text)\n",
    "    return text"
   ]
  },
  {
   "cell_type": "code",
   "execution_count": 12,
   "metadata": {},
   "outputs": [],
   "source": [
    "def change_scene_EP_VI(script):\n",
    "    text = []\n",
    "    for row in script:\n",
    "        row = row.replace('\\t', ' ').lstrip(\" \")\n",
    "        row = re.sub(r'(INT|EXT)', 'SPLIT', row)\n",
    "        row = re.sub(r'^\\W+', r'', row)\n",
    "        row = re.sub(r\"[^a-zA-Z0-9.,?'&\\n ]+\", '', row)\n",
    "        text.append(row)\n",
    "    text = \"\".join([s for s in text if s.strip()])\n",
    "    text = re.sub(r'\\nTHE END\\n(.|\\n)*', '', text)\n",
    "    return text"
   ]
  },
  {
   "cell_type": "markdown",
   "metadata": {},
   "source": [
    "#### Script's dialogues"
   ]
  },
  {
   "cell_type": "code",
   "execution_count": 13,
   "metadata": {},
   "outputs": [],
   "source": [
    "def every_dialogue(text, characters, movie):\n",
    "    scene_dialogue, scene_description, char_turn = [], [], []\n",
    "    every_lines_char, every_chars_line = [], []\n",
    "    scenes_loop = text.split('SPLIT')[1:]\n",
    "    for scene in scenes_loop:\n",
    "        scene_line = re.compile('(\\n[A-Z]+[A-Z]+\\n)|(\\n[A-Z]+[A-Z]+\\s+\\n)|(\\n[A-Z]+[A-Z]+\\s+[A-Z]+[A-Z]+\\s+\\n)\\\n",
    "        |(\\n[A-Z]+[A-Z]+\\s+[A-Z]+[A-Z]+\\n)|(\\nMR\\s+[A-Z]+[A-Z]+|MRS\\s+[A-Z]+[A-Z]+\\n)\\\n",
    "        |(\\n[A-Z]+[A-Z]+\\'S\\s+[A-Z]+[A-Z]+\\n)|(\\nMR\\s+[A-Z]+[A-Z]+|MRS\\s+[A-Z]+[A-Z]+\\s+\\n)').split(scene)\n",
    "        scene_line = [x for x in scene_line if x != None]\n",
    "        char_line = re.findall('(\\n[A-Z]+[A-Z]+\\n)|(\\n[A-Z]+[A-Z]+\\s+\\n)|(\\n[A-Z]+\\.\\s+[A-Z]+\\n)|(\\n[A-Z]+[A-Z]+\\s+[A-Z]+[A-Z]+\\s+\\n)\\\n",
    "        |(\\n[A-Z]+[A-Z]+\\s+[A-Z]+[A-Z]+\\s+[A-Z]+[A-Z]+\\n)|(\\n[A-Z]+[A-Z]+\\s+[A-Z]+[A-Z]+\\n)|(\\n[A-Z]+[A-Z]+\\'S\\s+[A-Z]+[A-Z]+\\s+[A-Z]+[A-Z]+\\n)\\\n",
    "        |(\\n[A-Z]+[A-Z]+\\'S\\s+[A-Z]+[A-Z]+\\n)|(\\n[A-Z]+[A-Z]+\\'S\\s+[A-Z]+[A-Z]+\\s+\\n)|(\\nMR\\s+[A-Z]+[A-Z]+|MRS\\s+[A-Z]+[A-Z]+\\s+\\n)\\\n",
    "        |(\\n[A-Z]+[A-Z]+\\s+\\&\\s+[A-Z]+[A-Z]+\\n)|(\\nMR\\s+[A-Z]+[A-Z]+|MRS\\s+[A-Z]+[A-Z]+\\n)', scene)\n",
    "        tupled_char = []\n",
    "        for line in char_line:\n",
    "            temp_line = tuple(filter(None, line))\n",
    "            tupled_char.append(temp_line)\n",
    "        untupled_char = [x[0] for x in tupled_char]\n",
    "        ordered_char = []\n",
    "        for c in untupled_char:\n",
    "            temp_char = c.replace('\\n', '').strip()\n",
    "            if temp_char in characters:\n",
    "                ordered_char.append(c)\n",
    "        dial=False\n",
    "        temp_scene_description = []\n",
    "        for i in range(len(scene_line)):\n",
    "            if scene_line[i] in ordered_char:\n",
    "                dial = True\n",
    "                continue\n",
    "            if dial==True:\n",
    "                dial=False\n",
    "                continue\n",
    "            temp_scene_description.append(scene_line[i])\n",
    "        scene_description.append(temp_scene_description)\n",
    "        if ordered_char != []:\n",
    "            temp_dialogue = []\n",
    "            temp_char_turn = [] \n",
    "            for i, line in enumerate(scene_line):\n",
    "                if line in ordered_char:\n",
    "                    every_lines_char.append(line)\n",
    "                    every_chars_line.append(scene_line[i+1])\n",
    "                    temp_char_turn.append(line)\n",
    "                    temp_dialogue.append(scene_line[i+1])\n",
    "                    every_lines_char = [re.sub(r'\\n', r' ', y).strip() for y in every_lines_char]\n",
    "                    every_chars_line = [re.sub(r'\\n', r' ', y) for y in every_chars_line]\n",
    "                    every_chars_line = [re.sub(r'into comlink', r'', y) for y in every_chars_line]\n",
    "                    every_chars_line = [re.sub(r'over comlink', r'', y) for y in every_chars_line]\n",
    "                    temp_char_turn = [re.sub(r'\\n', r' ', y).strip() for y in temp_char_turn]\n",
    "                    temp_dialogue = [re.sub(r'\\n', r' ', dial) for dial in temp_dialogue]\n",
    "                    temp_dialogue = [re.sub(r'into comlink', r'', dial) for dial in temp_dialogue]\n",
    "                    temp_dialogue = [re.sub(r'over comlink', r'', dial) for dial in temp_dialogue]\n",
    "            scene_dialogue.append(temp_dialogue)\n",
    "            char_turn.append(temp_char_turn)\n",
    "        else:    \n",
    "            scene_dialogue.append(None)\n",
    "            char_turn.append(None)\n",
    "    #scene_description = [re.sub(r'\\n', r' ', x).strip() for x in scene_description]\n",
    "    movie = [movie]*len(scenes)\n",
    "    movie_data = list(zip(scenes, scene_description, char_turn, scene_dialogue, movie))\n",
    "    dial_data = list(zip(every_lines_char, every_chars_line, movie))\n",
    "    return movie_data, dial_data"
   ]
  },
  {
   "cell_type": "code",
   "execution_count": 14,
   "metadata": {},
   "outputs": [],
   "source": [
    "def every_dialogue_EP_I(text, characters, movie):\n",
    "    scene_dialogue, scene_description, char_turn = [], [], []\n",
    "    every_lines_char, every_chars_line = [], []\n",
    "    scenes_loop = text.split('SPLIT')[1:]\n",
    "    for scene in scenes_loop:\n",
    "        scene_line = re.compile('(\\n[A-Z]+[A-Z]+  )|(\\n[A-Z]+[A-Z]+\\s+  )|(\\n[A-Z]+[A-Z]+\\s+[A-Z]+[A-Z]+\\s+  )\\\n",
    "        |(\\n[A-Z]+[A-Z]+\\s+[A-Z]+[A-Z]+  )|(\\nMR\\s+[A-Z]+[A-Z]+|MRS\\s+[A-Z]+[A-Z]+  )\\\n",
    "        |(\\n[A-Z]+[A-Z]+\\'S\\s+[A-Z]+[A-Z]+  )|(\\nMR\\s+[A-Z]+[A-Z]+|MRS\\s+[A-Z]+[A-Z]+\\s+)|(?=(\\n[A-Z][a-z]+\\s+[A-Z][a-z]+))').split(scene)\n",
    "        scene_line = [x for x in scene_line if x != None]\n",
    "        char_line = re.findall('(\\n[A-Z]+[A-Z]+  )|(\\n[A-Z]+[A-Z]+\\s+  )|(\\n[A-Z]+\\.\\s+[A-Z]+  )|(\\n[A-Z]+[A-Z]+\\s+[A-Z]+[A-Z]+\\s+  )\\\n",
    "        |(\\n[A-Z]+[A-Z]+\\s+[A-Z]+[A-Z]+\\s+[A-Z]+[A-Z]+  )|(\\n[A-Z]+[A-Z]+\\s+[A-Z]+[A-Z]+  )|(\\n[A-Z]+[A-Z]+\\'S\\s+[A-Z]+[A-Z]+\\s+[A-Z]+[A-Z]+  )\\\n",
    "        |(\\n[A-Z]+[A-Z]+\\'S\\s+[A-Z]+[A-Z]+  )|(\\n[A-Z]+[A-Z]+\\'S\\s+[A-Z]+[A-Z]+\\s+  )|(\\nMR\\s+[A-Z]+[A-Z]+|MRS\\s+[A-Z]+[A-Z]+\\s+  )\\\n",
    "        |(\\n[A-Z]+[A-Z]+\\s+\\&\\s+[A-Z]+[A-Z]+  )|(\\nMR\\s+[A-Z]+[A-Z]+|MRS\\s+[A-Z]+[A-Z]+  )', scene)\n",
    "        tupled_char = []\n",
    "        for line in char_line:\n",
    "            temp_line = tuple(filter(None, line))\n",
    "            tupled_char.append(temp_line)\n",
    "        untupled_char = [x[0] for x in tupled_char]\n",
    "        ordered_char = []\n",
    "        for c in untupled_char:\n",
    "            temp_char = c.replace('\\n', '').strip()\n",
    "            if temp_char in characters:\n",
    "                ordered_char.append(c)\n",
    "        dial=False\n",
    "        temp_scene_description = []\n",
    "        for i in range(len(scene_line)):\n",
    "            if scene_line[i] in ordered_char:\n",
    "                dial = True\n",
    "                continue\n",
    "            if dial==True:\n",
    "                dial=False\n",
    "                continue\n",
    "            temp_scene_description.append(scene_line[i])\n",
    "        scene_description.append(temp_scene_description)\n",
    "        if ordered_char != []:\n",
    "            temp_dialogue = []\n",
    "            temp_char_turn = []\n",
    "            for i, line in enumerate(scene_line):\n",
    "                if line in ordered_char:\n",
    "                    every_lines_char.append(line)\n",
    "                    every_chars_line.append(scene_line[i+1])\n",
    "                    temp_char_turn.append(line)\n",
    "                    temp_dialogue.append(scene_line[i+1])\n",
    "                    every_lines_char = [re.sub(r'\\n', r' ', y).strip() for y in every_lines_char]\n",
    "                    every_chars_line = [re.sub(r'\\n', r' ', y) for y in every_chars_line]\n",
    "                    temp_char_turn = [re.sub(r'\\n', r' ', y).strip() for y in temp_char_turn]\n",
    "                    temp_dialogue = [re.sub(r'\\n', r' ', dial) for dial in temp_dialogue]\n",
    "            scene_dialogue.append(temp_dialogue)\n",
    "            char_turn.append(temp_char_turn)\n",
    "        else:    \n",
    "            scene_dialogue.append(None)\n",
    "            char_turn.append(None)\n",
    "    #scene_description = [re.sub(r'\\n', r' ', x).strip() for x in scene_description]\n",
    "    movie = [movie]*len(scenes)\n",
    "    movie_data = list(zip(scenes, scene_description, char_turn, scene_dialogue, movie))\n",
    "    dial_data = list(zip(every_lines_char, every_chars_line, movie))\n",
    "    return movie_data, dial_data"
   ]
  },
  {
   "cell_type": "code",
   "execution_count": 15,
   "metadata": {},
   "outputs": [],
   "source": [
    "def every_dialogue_EP_III(text, characters, movie):\n",
    "    scene_dialogue, scene_description, char_turn = [], [], []\n",
    "    every_lines_char, every_chars_line = [], []\n",
    "    scenes_loop = text.split('SPLIT')[1:]\n",
    "    for scene in scenes_loop:\n",
    "        scene_line = re.compile('(\\n[A-Z]+[A-Z])|(\\n[A-Z]+[A-Z]+\\s)|(\\n[A-Z]+[A-Z]+\\s+[A-Z]+[A-Z]+\\s)\\\n",
    "        |(\\n[A-Z]+[A-Z]+\\s+[A-Z]+[A-Z])|(\\nMR\\s+[A-Z]+[A-Z]+|MRS\\s+[A-Z]+[A-Z])\\\n",
    "        |(\\n[A-Z]+[A-Z]+\\'S\\s+[A-Z]+[A-Z])|(\\nMR\\s+[A-Z]+[A-Z]+|MRS\\s+[A-Z]+[A-Z]+\\s+)').split(scene)\n",
    "        scene_line = [x for x in scene_line if x != None]\n",
    "        char_line = re.findall('(\\n[A-Z]+[A-Z])|(\\n[A-Z]+[A-Z]+\\s)|(\\n[A-Z]+\\.\\s+[A-Z])|(\\n[A-Z]+[A-Z]+\\s+[A-Z]+[A-Z]+\\s)\\\n",
    "        |(\\n[A-Z]+[A-Z]+\\s+[A-Z]+[A-Z]+\\s+[A-Z]+[A-Z])|(\\n[A-Z]+[A-Z]+\\s+[A-Z]+[A-Z])|(\\n[A-Z]+[A-Z]+\\'S\\s+[A-Z]+[A-Z]+\\s+[A-Z]+[A-Z])\\\n",
    "        |(\\n[A-Z]+[A-Z]+\\'S\\s+[A-Z]+[A-Z])|(\\n[A-Z]+[A-Z]+\\'S\\s+[A-Z]+[A-Z]+\\s)|(\\nMR\\s+[A-Z]+[A-Z]+|MRS\\s+[A-Z]+[A-Z]+\\s)\\\n",
    "        |(\\n[A-Z]+[A-Z]+\\s+\\&\\s+[A-Z]+[A-Z])|(\\nMR\\s+[A-Z]+[A-Z]+|MRS\\s+[A-Z]+[A-Z])', scene)\n",
    "        tupled_char = []\n",
    "        for line in char_line:\n",
    "            temp_line = tuple(filter(None, line))\n",
    "            tupled_char.append(temp_line)\n",
    "        untupled_char = [x[0] for x in tupled_char]\n",
    "        ordered_char = []\n",
    "        for c in untupled_char:\n",
    "            temp_char = c.replace('\\n', '').strip()\n",
    "            if temp_char in characters:\n",
    "                ordered_char.append(c)\n",
    "        dial=False\n",
    "        temp_scene_description = []\n",
    "        for i in range(len(scene_line)):\n",
    "            if scene_line[i] in ordered_char:\n",
    "                dial = True\n",
    "                continue\n",
    "            if dial==True:\n",
    "                dial=False\n",
    "                continue\n",
    "            temp_scene_description.append(scene_line[i])\n",
    "        scene_description.append(temp_scene_description)\n",
    "        if ordered_char != []:\n",
    "            temp_dialogue = []\n",
    "            temp_char_turn = []\n",
    "            for i, line in enumerate(scene_line):\n",
    "                if line in ordered_char:\n",
    "                    every_lines_char.append(line)\n",
    "                    every_chars_line.append(scene_line[i+1])\n",
    "                    temp_char_turn.append(line)\n",
    "                    temp_dialogue.append(scene_line[i+1])\n",
    "                    every_lines_char = [re.sub(r'\\n', r' ', y).strip() for y in every_lines_char]\n",
    "                    every_chars_line = [re.sub(r'\\n', r' ', y) for y in every_chars_line]\n",
    "                    temp_char_turn = [re.sub(r'\\n', r' ', y).strip() for y in temp_char_turn]\n",
    "                    temp_dialogue = [re.sub(r'\\n', r' ', dial) for dial in temp_dialogue]\n",
    "            scene_dialogue.append(temp_dialogue)\n",
    "            char_turn.append(temp_char_turn)\n",
    "        else:    \n",
    "            scene_dialogue.append(None)\n",
    "            char_turn.append(None)\n",
    "    #scene_description = [re.sub(r'\\n', r' ', x).strip() for x in scene_description]\n",
    "    movie = [movie]*len(scenes)\n",
    "    movie_data = list(zip(scenes, scene_description, char_turn, scene_dialogue, movie))\n",
    "    dial_data = list(zip(every_lines_char, every_chars_line, movie))\n",
    "    return movie_data, dial_data"
   ]
  },
  {
   "cell_type": "markdown",
   "metadata": {},
   "source": [
    "### The Phantom Menace"
   ]
  },
  {
   "cell_type": "code",
   "execution_count": 16,
   "metadata": {},
   "outputs": [],
   "source": [
    "with open('./Data/Scripts/Star-Wars-The-Phantom-Menace.txt', \"r\", encoding='utf-8', errors='ignore') as f:\n",
    "    script = [row for row in f]\n",
    "    \n",
    "scenes = find_scenes(split_script_to_rows(script))\n",
    "characters = find_lines_character_EP_I(split_script_to_rows(script))\n",
    "# Remove space after name and remove a non-character name (Hardcoded)\n",
    "characters = [x[:-1] for x in characters]\n",
    "characters.pop(0)\n",
    "\n",
    "text = change_scene(script)\n",
    "temp_movie, temp_dial = every_dialogue_EP_I(text, characters, 'Episode I')\n",
    "temp_movie = pd.DataFrame(temp_movie, columns=['Scene_Title','Scene_Description', 'Scene_Characters', 'Scene_Dialogue', 'Movie'])\n",
    "temp_dial = pd.DataFrame(temp_dial, columns=['Character', 'Line', 'Movie'])\n",
    "\n",
    "data_movie = pd.concat([data_movie, temp_movie], axis=0)\n",
    "data_lines = pd.concat([data_lines, temp_dial], axis=0)"
   ]
  },
  {
   "cell_type": "markdown",
   "metadata": {},
   "source": [
    "### Attack of the Clones"
   ]
  },
  {
   "cell_type": "code",
   "execution_count": 17,
   "metadata": {},
   "outputs": [],
   "source": [
    "with open('./Data/Scripts/Star-Wars-Attack-of-the-Clones.txt', \"r\", encoding='utf-8', errors='ignore') as f:\n",
    "    script = [row for row in f]\n",
    "\n",
    "scenes = find_scenes(split_script_to_rows(script))\n",
    "characters = find_lines_character(split_script_to_rows(script))\n",
    "text = change_scene(script)\n",
    "temp_movie, temp_dial = every_dialogue(text, characters, 'Episode II')\n",
    "temp_movie = pd.DataFrame(temp_movie, columns=['Scene_Title','Scene_Description', 'Scene_Characters', 'Scene_Dialogue', 'Movie'])\n",
    "temp_dial = pd.DataFrame(temp_dial, columns=['Character', 'Line', 'Movie'])\n",
    "\n",
    "data_movie = pd.concat([data_movie, temp_movie], axis=0)\n",
    "data_lines = pd.concat([data_lines, temp_dial], axis=0)"
   ]
  },
  {
   "cell_type": "markdown",
   "metadata": {},
   "source": [
    "### Revenge of the Sith"
   ]
  },
  {
   "cell_type": "code",
   "execution_count": 18,
   "metadata": {},
   "outputs": [],
   "source": [
    "with open('./Data/Scripts/Star-Wars-Revenge-of-the-Sith.txt', \"r\", encoding='utf-8', errors='ignore') as f:\n",
    "    script = [row for row in f]\n",
    "    \n",
    "scenes = find_scenes(split_script_to_rows(script))\n",
    "characters = find_lines_character_EP_III(split_script_to_rows(script))\n",
    "text = change_scene(script)\n",
    "temp_movie, temp_dial = every_dialogue_EP_III(text, characters, 'Episode III')\n",
    "temp_movie = pd.DataFrame(temp_movie, columns=['Scene_Title','Scene_Description', 'Scene_Characters', 'Scene_Dialogue', 'Movie'])\n",
    "temp_dial = pd.DataFrame(temp_dial, columns=['Character', 'Line', 'Movie'])\n",
    "\n",
    "data_movie = pd.concat([data_movie, temp_movie], axis=0)\n",
    "data_lines = pd.concat([data_lines, temp_dial], axis=0)"
   ]
  },
  {
   "cell_type": "markdown",
   "metadata": {},
   "source": [
    "### A New Hope"
   ]
  },
  {
   "cell_type": "code",
   "execution_count": 19,
   "metadata": {},
   "outputs": [],
   "source": [
    "with open('./Data/Scripts/Star-Wars-A-New-Hope.txt', \"r\", encoding='utf-8', errors='ignore') as f:\n",
    "    script = [row for row in f]\n",
    "    \n",
    "scenes = find_scenes(split_script_to_rows(script))\n",
    "characters = find_lines_character(split_script_to_rows(script))\n",
    "text = change_scene(script)\n",
    "temp_movie, temp_dial = every_dialogue(text, characters, 'Episode IV')\n",
    "temp_movie = pd.DataFrame(temp_movie, columns=['Scene_Title','Scene_Description', 'Scene_Characters', 'Scene_Dialogue', 'Movie'])\n",
    "temp_dial = pd.DataFrame(temp_dial, columns=['Character', 'Line', 'Movie'])\n",
    "\n",
    "data_movie = pd.concat([data_movie, temp_movie], axis=0)\n",
    "data_lines = pd.concat([data_lines, temp_dial], axis=0)"
   ]
  },
  {
   "cell_type": "markdown",
   "metadata": {},
   "source": [
    "### The Empire Strikes Back"
   ]
  },
  {
   "cell_type": "code",
   "execution_count": 20,
   "metadata": {},
   "outputs": [],
   "source": [
    "with open('./Data/Scripts/Star-Wars-The-Empire-Strikes-Back.txt', \"r\", encoding='utf-8', errors='ignore') as f:\n",
    "    script = [row for row in f]\n",
    "    \n",
    "scenes = find_scenes(split_script_to_rows(script))\n",
    "characters = find_lines_character(split_script_to_rows(script))\n",
    "text = change_scene(script)\n",
    "temp_movie, temp_dial = every_dialogue(text, characters, 'Episode V')\n",
    "temp_movie = pd.DataFrame(temp_movie, columns=['Scene_Title','Scene_Description', 'Scene_Characters', 'Scene_Dialogue', 'Movie'])\n",
    "temp_dial = pd.DataFrame(temp_dial, columns=['Character', 'Line', 'Movie'])\n",
    "\n",
    "data_movie = pd.concat([data_movie, temp_movie], axis=0)\n",
    "data_lines = pd.concat([data_lines, temp_dial], axis=0)"
   ]
  },
  {
   "cell_type": "markdown",
   "metadata": {},
   "source": [
    "### Return of the Jedi"
   ]
  },
  {
   "cell_type": "code",
   "execution_count": 21,
   "metadata": {},
   "outputs": [],
   "source": [
    "with open('./Data/Scripts/Star-Wars-Return-of-the-Jedi.txt', \"r\", encoding='utf-8', errors='ignore') as f:\n",
    "    script = [row for row in f]\n",
    "\n",
    "scenes = find_scenes_EP_VI(split_script_to_rows(script))\n",
    "characters = find_lines_character(split_script_to_rows(script))\n",
    "text = change_scene_EP_VI(script)\n",
    "temp_movie, temp_dial = every_dialogue(text, characters, 'Episode VI')\n",
    "temp_movie = pd.DataFrame(temp_movie, columns=['Scene_Title','Scene_Description', 'Scene_Characters', 'Scene_Dialogue', 'Movie'])\n",
    "temp_dial = pd.DataFrame(temp_dial, columns=['Character', 'Line', 'Movie'])\n",
    "\n",
    "data_movie = pd.concat([data_movie, temp_movie], axis=0)\n",
    "data_lines = pd.concat([data_lines, temp_dial], axis=0)"
   ]
  },
  {
   "cell_type": "markdown",
   "metadata": {},
   "source": [
    "#### Save dataframes"
   ]
  },
  {
   "cell_type": "code",
   "execution_count": 22,
   "metadata": {},
   "outputs": [],
   "source": [
    "data_movie.to_pickle('./Data/Movies.pkl')\n",
    "#data_lines.to_pickle('./Data/Dialogues.pkl')"
   ]
  },
  {
   "cell_type": "markdown",
   "metadata": {},
   "source": [
    "#### Create dataframe for line and character"
   ]
  },
  {
   "cell_type": "code",
   "execution_count": 23,
   "metadata": {},
   "outputs": [],
   "source": [
    "temp_df = data_movie.reset_index(drop=True)\n",
    "dial = pd.DataFrame(columns=['Character', 'Line', 'Movie'])\n",
    "\n",
    "for row in range(len(temp_df)):\n",
    "    scene = temp_df.loc[row]\n",
    "    if scene['Scene_Characters']!=None:\n",
    "        for i in range(len(scene['Scene_Characters'])):\n",
    "            temp_char = scene['Scene_Characters'][i]\n",
    "            temp_line = scene['Scene_Dialogue'][i]\n",
    "            temp_movie = scene['Movie']\n",
    "            temp_dial = pd.DataFrame({\"Character\":[temp_char],\n",
    "                                      \"Line\":[temp_line],\n",
    "                                      \"Movie\":[temp_movie]})\n",
    "            dial = dial.append(temp_dial, ignore_index = True)"
   ]
  },
  {
   "cell_type": "markdown",
   "metadata": {},
   "source": [
    "#### Save dataframe"
   ]
  },
  {
   "cell_type": "code",
   "execution_count": 24,
   "metadata": {},
   "outputs": [],
   "source": [
    "dial.to_pickle('./Data/Dialogues.pkl')"
   ]
  }
 ],
 "metadata": {
  "kernelspec": {
   "display_name": "Python 3",
   "language": "python",
   "name": "python3"
  },
  "language_info": {
   "codemirror_mode": {
    "name": "ipython",
    "version": 3
   },
   "file_extension": ".py",
   "mimetype": "text/x-python",
   "name": "python",
   "nbconvert_exporter": "python",
   "pygments_lexer": "ipython3",
   "version": "3.8.10"
  }
 },
 "nbformat": 4,
 "nbformat_minor": 4
}
